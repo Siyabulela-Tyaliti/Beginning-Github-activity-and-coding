{
 "cells": [
  {
   "cell_type": "markdown",
   "metadata": {
    "id": "B1KBXIYhkuw5"
   },
   "source": [
    "# TASK #1: UNDERSTAND VARIABLES ASSIGNMENT"
   ]
  },
  {
   "cell_type": "code",
   "execution_count": 4,
   "metadata": {
    "id": "wsrqiWxMlQcd"
   },
   "outputs": [
    {
     "data": {
      "text/plain": [
       "250"
      ]
     },
     "execution_count": 4,
     "metadata": {},
     "output_type": "execute_result"
    }
   ],
   "source": [
    "# Define a variable named \"x\" and assign a number (integer) to it\n",
    "# integer is a whole number (no decimals) that could be positive or negative\n",
    "x = 250\n",
    "x"
   ]
  },
  {
   "cell_type": "code",
   "execution_count": 5,
   "metadata": {
    "colab": {
     "base_uri": "https://localhost:8080/"
    },
    "id": "_7BUQ4lalVpE",
    "outputId": "a85ec1b9-8ceb-41b4-ad1a-3569cb48bff4"
   },
   "outputs": [
    {
     "data": {
      "text/plain": [
       "250"
      ]
     },
     "execution_count": 5,
     "metadata": {},
     "output_type": "execute_result"
    }
   ],
   "source": [
    "# Let's view \"x\"\n",
    "x"
   ]
  },
  {
   "cell_type": "code",
   "execution_count": 6,
   "metadata": {
    "id": "5RLjbN6alXBn"
   },
   "outputs": [],
   "source": [
    "# Define a variable named \"y\" and assign a number (float) to it\n",
    "# Float are real numbers with a decimal point dividing the integer and fractional parts\n",
    "y = 500.5\n"
   ]
  },
  {
   "cell_type": "code",
   "execution_count": 7,
   "metadata": {
    "colab": {
     "base_uri": "https://localhost:8080/"
    },
    "id": "XaseHcnvlY7V",
    "outputId": "0fe33940-50f7-482e-859a-c4d0cab59ef4"
   },
   "outputs": [
    {
     "data": {
      "text/plain": [
       "500.5"
      ]
     },
     "execution_count": 7,
     "metadata": {},
     "output_type": "execute_result"
    }
   ],
   "source": [
    "# Let's view \"y\"\n",
    "y"
   ]
  },
  {
   "cell_type": "code",
   "execution_count": 9,
   "metadata": {
    "id": "1treMfL5phXx"
   },
   "outputs": [],
   "source": [
    "# Let's overwrite \"y\" (assume your portfolio value increased)\n",
    "y = 300.5 "
   ]
  },
  {
   "cell_type": "code",
   "execution_count": 10,
   "metadata": {
    "colab": {
     "base_uri": "https://localhost:8080/"
    },
    "id": "QaBaDH0fp5cf",
    "outputId": "2fb30cf7-bce0-4988-b10a-92ea05762b29"
   },
   "outputs": [
    {
     "data": {
      "text/plain": [
       "300.5"
      ]
     },
     "execution_count": 10,
     "metadata": {},
     "output_type": "execute_result"
    }
   ],
   "source": [
    "# Notice that \"y\" will only contain the most recent value\n",
    "y"
   ]
  },
  {
   "cell_type": "code",
   "execution_count": 11,
   "metadata": {
    "colab": {
     "base_uri": "https://localhost:8080/"
    },
    "id": "fqZRkUkilb-5",
    "outputId": "7aa42db1-ad0e-4817-c66d-f89c2f7a871a"
   },
   "outputs": [
    {
     "data": {
      "text/plain": [
       "int"
      ]
     },
     "execution_count": 11,
     "metadata": {},
     "output_type": "execute_result"
    }
   ],
   "source": [
    "# Get the type of \"x\" which is integer\n",
    "# integer is a whole number (no decimals) that could be positive or negative\n",
    "type(x)"
   ]
  },
  {
   "cell_type": "code",
   "execution_count": 12,
   "metadata": {
    "colab": {
     "base_uri": "https://localhost:8080/"
    },
    "id": "T0Rszu5xlceK",
    "outputId": "7e9f542c-2dd5-4373-bf5b-95bdbbbd2c95"
   },
   "outputs": [
    {
     "data": {
      "text/plain": [
       "float"
      ]
     },
     "execution_count": 12,
     "metadata": {},
     "output_type": "execute_result"
    }
   ],
   "source": [
    "# Get the type of \"y\" which is float\n",
    "# Float are real numbers with a decimal point dividing the integer and fractional parts\n",
    "type(y)"
   ]
  },
  {
   "cell_type": "markdown",
   "metadata": {
    "id": "75YN6NcVlv50"
   },
   "source": [
    "MINI CHALLENGE #1:\n",
    "- We defined a variable x and we assigned these 4 values listed below to it. Without executing any code cells, what will these lines of code generate?\n",
    "- Verify your answer by executing the code cells\n",
    "\n",
    "\n",
    "\n",
    "```\n",
    "z = 1000\n",
    "z = 2000\n",
    "z = 5000\n",
    "z = 6000\n",
    "z\n",
    "```\n"
   ]
  },
  {
   "cell_type": "code",
   "execution_count": 13,
   "metadata": {},
   "outputs": [
    {
     "data": {
      "text/plain": [
       "6000"
      ]
     },
     "execution_count": 13,
     "metadata": {},
     "output_type": "execute_result"
    }
   ],
   "source": [
    "# I expect that z will be 6000\n",
    "\n",
    "z = 1000\n",
    "z = 2000\n",
    "z = 5000\n",
    "z = 6000\n",
    "z"
   ]
  },
  {
   "cell_type": "markdown",
   "metadata": {
    "id": "lsCfJJEkkqGQ"
   },
   "source": [
    "# TASK #2: PERFORM MATH OPERATIONS IN PYTHON"
   ]
  },
  {
   "cell_type": "code",
   "execution_count": 1,
   "metadata": {
    "colab": {
     "base_uri": "https://localhost:8080/"
    },
    "id": "vxspxvj2qTrx",
    "outputId": "6866b342-3f28-4ed6-8be1-a11777d008c1"
   },
   "outputs": [
    {
     "data": {
      "text/plain": [
       "24"
      ]
     },
     "execution_count": 1,
     "metadata": {},
     "output_type": "execute_result"
    }
   ],
   "source": [
    "# Define a variable named i and initialize it with 20 \n",
    "# Let's assume that we want to increment the value by 4 \n",
    "i = 20 \n",
    "i = i + 4 \n",
    "i"
   ]
  },
  {
   "cell_type": "code",
   "execution_count": 2,
   "metadata": {
    "colab": {
     "base_uri": "https://localhost:8080/"
    },
    "id": "zkO001-qcZc3",
    "outputId": "cfe072c9-fed1-4c13-ee88-ad60ffe62eb4"
   },
   "outputs": [
    {
     "data": {
      "text/plain": [
       "150"
      ]
     },
     "execution_count": 2,
     "metadata": {},
     "output_type": "execute_result"
    }
   ],
   "source": [
    "# Let's assume that you own a little grocery store \n",
    "# The price of 1 bottle of milk is $3 and we currently have 50 bottles\n",
    "# We can calculate the total dollar value of our inventory as follows:\n",
    "count = 50\n",
    "price = 3\n",
    "inventory = count * price \n",
    "inventory "
   ]
  },
  {
   "cell_type": "code",
   "execution_count": 4,
   "metadata": {
    "colab": {
     "base_uri": "https://localhost:8080/"
    },
    "id": "4bXP93aqejr1",
    "outputId": "0d8a80b7-9cb4-4b26-a087-4ce3dd2286df"
   },
   "outputs": [],
   "source": [
    "# Let's assume you have $550 USD in our bank account\n",
    "# We want to buy x number of IBM stocks using the total amount \n",
    "# each IBM stock is priced at $128 each\n",
    "\n",
    "account_balance = 550\n",
    "IBM_price = 128 \n",
    "\n"
   ]
  },
  {
   "cell_type": "code",
   "execution_count": 5,
   "metadata": {
    "colab": {
     "base_uri": "https://localhost:8080/"
    },
    "id": "Mc569vLOqxzg",
    "outputId": "f09352ff-63ab-4105-fbc4-b8cffde7e355"
   },
   "outputs": [
    {
     "data": {
      "text/plain": [
       "4.296875"
      ]
     },
     "execution_count": 5,
     "metadata": {},
     "output_type": "execute_result"
    }
   ],
   "source": [
    "# Divide the account balance by Amazon stock price and place the answer in units\n",
    "units = account_balance/IBM_price\n",
    "units\n"
   ]
  },
  {
   "cell_type": "markdown",
   "metadata": {
    "id": "8UaT7FRdNnCQ"
   },
   "source": [
    "MINI CHALLENGE #2:\n",
    "- Write a code that takes in APPLE (AAPL) stock prices at two days and calculate the return:\n",
    "  - AAPL price on day 1 = \\$135\n",
    "  - AAPL price on day 2 = \\$150\n"
   ]
  },
  {
   "cell_type": "code",
   "execution_count": 2,
   "metadata": {},
   "outputs": [
    {
     "data": {
      "text/plain": [
       "11.11111111111111"
      ]
     },
     "execution_count": 2,
     "metadata": {},
     "output_type": "execute_result"
    }
   ],
   "source": [
    "AAPL_day_1 = 135\n",
    "AAPL_day_2 = 150  \n",
    "AAPL_return = AAPL_day_2 - AAPL_day_1\n",
    "AAPL_return_percentage = AAPL_return/135 * 100\n",
    "AAPL_return_percentage"
   ]
  },
  {
   "cell_type": "markdown",
   "metadata": {
    "id": "7zzJ2pPPkE-b"
   },
   "source": [
    "# TASK #3: UNDERSTAND PRINT AND INPUT OPERATIONS"
   ]
  },
  {
   "cell_type": "code",
   "execution_count": 3,
   "metadata": {
    "id": "BS3wvOy9iIhI"
   },
   "outputs": [],
   "source": [
    "# Print function is used to print elements on the screen\n",
    "# Define a string x \n",
    "# A string in Python is a sequence of characters\n",
    "# String in python are surrounded by single or double quotation marks\n",
    "x = \"Welcome to Rhyme's guided project in python\""
   ]
  },
  {
   "cell_type": "code",
   "execution_count": 4,
   "metadata": {
    "id": "PwkYtwBbiGY2"
   },
   "outputs": [
    {
     "name": "stdout",
     "output_type": "stream",
     "text": [
      "Welcome to Rhyme's guided project in python\n"
     ]
    }
   ],
   "source": [
    "print(x)"
   ]
  },
  {
   "cell_type": "code",
   "execution_count": 5,
   "metadata": {},
   "outputs": [
    {
     "data": {
      "text/plain": [
       "str"
      ]
     },
     "execution_count": 5,
     "metadata": {},
     "output_type": "execute_result"
    }
   ],
   "source": [
    "# Obtain the data type for 'x'\n",
    "type(x)"
   ]
  },
  {
   "cell_type": "code",
   "execution_count": 7,
   "metadata": {},
   "outputs": [
    {
     "name": "stdout",
     "output_type": "stream",
     "text": [
      "I own 500 shares at Apple\n"
     ]
    }
   ],
   "source": [
    "# The format() method formats the specified value and insert it in the placeholder\n",
    "# The placeholder is defined using curly braces: {}\n",
    "company_name = \"Apple\"\n",
    "shares = 500\n",
    "print(\"I own {} shares at {}\".format(shares,company_name))"
   ]
  },
  {
   "cell_type": "code",
   "execution_count": 14,
   "metadata": {},
   "outputs": [
    {
     "name": "stdout",
     "output_type": "stream",
     "text": [
      "Welcome to the store, please enter your name:Paul \n",
      "Enter your country:South Africa \n",
      "Enter your e-mail:paulty407@gmail.com \n"
     ]
    }
   ],
   "source": [
    "# input is a built-in function in python\n",
    "# Obtain client data such as name, country and e-mail and print them all out on the screen\n",
    "name  = input(\"Welcome to the store, please enter your name:\")\n",
    "country = input(\"Enter your country:\")\n",
    "email = input(\"Enter your e-mail:\")\n",
    "# The output will be whatever information the user enters in the input space "
   ]
  },
  {
   "cell_type": "code",
   "execution_count": 15,
   "metadata": {},
   "outputs": [
    {
     "data": {
      "text/plain": [
       "'Paul '"
      ]
     },
     "execution_count": 15,
     "metadata": {},
     "output_type": "execute_result"
    }
   ],
   "source": [
    "name "
   ]
  },
  {
   "cell_type": "code",
   "execution_count": 16,
   "metadata": {},
   "outputs": [
    {
     "data": {
      "text/plain": [
       "'South Africa '"
      ]
     },
     "execution_count": 16,
     "metadata": {},
     "output_type": "execute_result"
    }
   ],
   "source": [
    "country "
   ]
  },
  {
   "cell_type": "code",
   "execution_count": 17,
   "metadata": {},
   "outputs": [
    {
     "data": {
      "text/plain": [
       "'paulty407@gmail.com '"
      ]
     },
     "execution_count": 17,
     "metadata": {},
     "output_type": "execute_result"
    }
   ],
   "source": [
    "email "
   ]
  },
  {
   "cell_type": "code",
   "execution_count": 18,
   "metadata": {},
   "outputs": [
    {
     "name": "stdout",
     "output_type": "stream",
     "text": [
      "My name is Paul , I am from South Africa , and my email is paulty407@gmail.com \n"
     ]
    }
   ],
   "source": [
    "print(\"My name is {}, I am from {}, and my email is {}\".format(name,country,email))"
   ]
  },
  {
   "cell_type": "markdown",
   "metadata": {},
   "source": [
    "MINI CHALLENGE #3:\n",
    "- Write a code that takes in the name of the stock, price at which it is selling, the number of stocks that you want to own and prints out the total funds required to buy this stock. Find a sample expected output below:\n",
    "  - Enter the price of the stock you want to buy: 3000  \n",
    "  - Enter the number of stocks that you want to buy: 5\n",
    "  - Enter the name of the stock that you want to buy: AMZN\n",
    "  - The total funds required to buy 5 number of AMZN stocks at 3000 is: 15000\n"
   ]
  },
  {
   "cell_type": "code",
   "execution_count": 4,
   "metadata": {},
   "outputs": [
    {
     "name": "stdout",
     "output_type": "stream",
     "text": [
      "Enter the price of the stock you want to buy:618\n",
      "Enter the number of stocks you want to buy:10\n",
      "Enter the name of the stock you want to buy:Netflix\n",
      "The total funds required to buy 10 stocks of Netflix at 618 is 6180\n"
     ]
    }
   ],
   "source": [
    "stock_price = input(\"Enter the price of the stock you want to buy:\")\n",
    "stock_price = int(stock_price) \n",
    "stock_quantity = input(\"Enter the number of stocks you want to buy:\") \n",
    "stock_quantity = int(stock_quantity) \n",
    "stock_name = input(\"Enter the name of the stock you want to buy:\") \n",
    "stock_funds_required = print(\"The total funds required to buy {} stocks of {} at {} is {}\".format(stock_quantity,stock_name,stock_price,stock_price*stock_quantity) )\n",
    "stock_funds_required \n"
   ]
  },
  {
   "cell_type": "markdown",
   "metadata": {},
   "source": [
    "# TASK #4: UNDERSTAND LISTS DATA TYPES"
   ]
  },
  {
   "cell_type": "code",
   "execution_count": 4,
   "metadata": {},
   "outputs": [
    {
     "data": {
      "text/plain": [
       "['oranges', 'apples', 'bananas']"
      ]
     },
     "execution_count": 4,
     "metadata": {},
     "output_type": "execute_result"
    }
   ],
   "source": [
    "# A list is a collection which is ordered and changeable. \n",
    "# List allows duplicate members.\n",
    "grocery_list = [\"oranges\",\"apples\",\"bananas\"]\n",
    "grocery_list "
   ]
  },
  {
   "cell_type": "code",
   "execution_count": 5,
   "metadata": {},
   "outputs": [
    {
     "data": {
      "text/plain": [
       "list"
      ]
     },
     "execution_count": 5,
     "metadata": {},
     "output_type": "execute_result"
    }
   ],
   "source": [
    "# Obtain the datatype\n",
    "type(grocery_list)  "
   ]
  },
  {
   "cell_type": "code",
   "execution_count": 6,
   "metadata": {},
   "outputs": [
    {
     "data": {
      "text/plain": [
       "'apples'"
      ]
     },
     "execution_count": 6,
     "metadata": {},
     "output_type": "execute_result"
    }
   ],
   "source": [
    "# Access specific elements in the list with Indexing\n",
    "# Note that the first element in the list has an index of 0 (little confusing but you'll get used to it!)\n",
    "grocery_list[1]"
   ]
  },
  {
   "cell_type": "markdown",
   "metadata": {},
   "source": [
    "MINI CHALLENGE #4:\n",
    "- Print the first, second and last element in the list below\n",
    "\n",
    "```\n",
    "grocery_list = ['milk', 'rice', 'eggs', 'bread', 'oranges', 'water']\n",
    "\n",
    "```\n",
    "\n"
   ]
  },
  {
   "cell_type": "code",
   "execution_count": 10,
   "metadata": {},
   "outputs": [
    {
     "data": {
      "text/plain": [
       "['milk', 'rice', 'water']"
      ]
     },
     "execution_count": 10,
     "metadata": {},
     "output_type": "execute_result"
    }
   ],
   "source": [
    "grocery_list = ['milk', 'rice', 'eggs', 'bread', 'oranges', 'water']\n",
    "grocery_list \n",
    "new_grocery_list = [grocery_list[0],grocery_list[1],grocery_list[5]] \n",
    "new_grocery_list "
   ]
  },
  {
   "cell_type": "code",
   "execution_count": 12,
   "metadata": {},
   "outputs": [
    {
     "data": {
      "text/plain": [
       "'rice'"
      ]
     },
     "execution_count": 12,
     "metadata": {},
     "output_type": "execute_result"
    }
   ],
   "source": [
    "grocery_list[1] "
   ]
  },
  {
   "cell_type": "code",
   "execution_count": 13,
   "metadata": {},
   "outputs": [
    {
     "data": {
      "text/plain": [
       "'water'"
      ]
     },
     "execution_count": 13,
     "metadata": {},
     "output_type": "execute_result"
    }
   ],
   "source": [
    "grocery_list[5]"
   ]
  },
  {
   "cell_type": "code",
   "execution_count": 14,
   "metadata": {},
   "outputs": [
    {
     "data": {
      "text/plain": [
       "'water'"
      ]
     },
     "execution_count": 14,
     "metadata": {},
     "output_type": "execute_result"
    }
   ],
   "source": [
    "grocery_list[-1]"
   ]
  },
  {
   "cell_type": "code",
   "execution_count": 11,
   "metadata": {},
   "outputs": [
    {
     "data": {
      "text/plain": [
       "'milk'"
      ]
     },
     "execution_count": 11,
     "metadata": {},
     "output_type": "execute_result"
    }
   ],
   "source": [
    "grocery_list[0]"
   ]
  },
  {
   "cell_type": "markdown",
   "metadata": {},
   "source": [
    "# TASK #5: UNDERSTAND COMPARISON OPERATORS AND CONDITIONAL STATEMENTS"
   ]
  },
  {
   "cell_type": "code",
   "execution_count": 15,
   "metadata": {},
   "outputs": [
    {
     "data": {
      "text/plain": [
       "False"
      ]
     },
     "execution_count": 15,
     "metadata": {},
     "output_type": "execute_result"
    }
   ],
   "source": [
    "# Comparison Operator output could be \"True\" or \"False\"\n",
    "# Let's cover equal '==' comparison operator first\n",
    "# It's simply a question: \"Is x equals y or not?\"\n",
    "# \"True\" output means condition is satisfied \n",
    "# \"False\" output means Condition is not satisfied (condition is not true) \n",
    "x = 500 \n",
    "y = 600 \n",
    "\n",
    "x == y \n"
   ]
  },
  {
   "cell_type": "code",
   "execution_count": 16,
   "metadata": {},
   "outputs": [
    {
     "data": {
      "text/plain": [
       "True"
      ]
     },
     "execution_count": 16,
     "metadata": {},
     "output_type": "execute_result"
    }
   ],
   "source": [
    "x = 500\n",
    "y = 500 \n",
    "\n",
    "x == y \n"
   ]
  },
  {
   "cell_type": "code",
   "execution_count": 17,
   "metadata": {},
   "outputs": [
    {
     "data": {
      "text/plain": [
       "False"
      ]
     },
     "execution_count": 17,
     "metadata": {},
     "output_type": "execute_result"
    }
   ],
   "source": [
    "# Greater than or equal operator '>='\n",
    "\n",
    "x = 20\n",
    "y = 40  \n",
    "\n",
    "x >= y "
   ]
  },
  {
   "cell_type": "code",
   "execution_count": 18,
   "metadata": {},
   "outputs": [
    {
     "data": {
      "text/plain": [
       "True"
      ]
     },
     "execution_count": 18,
     "metadata": {},
     "output_type": "execute_result"
    }
   ],
   "source": [
    "x = 60\n",
    "y  = 40 \n",
    "\n",
    "x >= y "
   ]
  },
  {
   "cell_type": "code",
   "execution_count": 20,
   "metadata": {},
   "outputs": [],
   "source": [
    "# Note that '==' is a comparison operator \n",
    "# Note that '=' is used for variable assignment (put 10 in x)\n",
    "x = 10 "
   ]
  },
  {
   "cell_type": "code",
   "execution_count": 21,
   "metadata": {},
   "outputs": [
    {
     "data": {
      "text/plain": [
       "10"
      ]
     },
     "execution_count": 21,
     "metadata": {},
     "output_type": "execute_result"
    }
   ],
   "source": [
    "x"
   ]
  },
  {
   "cell_type": "markdown",
   "metadata": {},
   "source": [
    "- A simple if-else statement is written in Python as follows:\n",
    "\n",
    "```\n",
    "if condition:\n",
    "  statement #1\n",
    "else:\n",
    "  statement #2\n",
    "```\n",
    "\n",
    "- If the condition is true, execute the first indented statement\n",
    "- if the condition is not true, then execute the else indented statements. \n",
    "- Note that Python uses indentation (whitespace) to indicate code sections and scope."
   ]
  },
  {
   "cell_type": "code",
   "execution_count": 2,
   "metadata": {},
   "outputs": [
    {
     "name": "stdout",
     "output_type": "stream",
     "text": [
      "Enter your username:Ryan\n",
      "Access granted\n"
     ]
    }
   ],
   "source": [
    "# Let's take an input from the user and grant or deny access accordingly\n",
    "name = input(\"Enter your username:\")\n",
    "\n",
    "if name == \"Ryan\":\n",
    "    print(\"Access granted\")\n",
    "else:\n",
    "    print(\"Access denied\")"
   ]
  },
  {
   "cell_type": "code",
   "execution_count": 4,
   "metadata": {},
   "outputs": [
    {
     "name": "stdout",
     "output_type": "stream",
     "text": [
      "Please enter an integer from 1 to 1000:5\n",
      "Number is odd\n"
     ]
    }
   ],
   "source": [
    "x = int(input(\"Please enter an integer from 1 to 1000:\"))\n",
    "\n",
    "if x % 2 == 0:\n",
    "    print(\"Number is even\")\n",
    "else:\n",
    "    print(\"Number is odd\")"
   ]
  },
  {
   "cell_type": "code",
   "execution_count": 15,
   "metadata": {},
   "outputs": [
    {
     "name": "stdout",
     "output_type": "stream",
     "text": [
      "Please type a number -100 to 100:0\n",
      "Number is zero\n"
     ]
    }
   ],
   "source": [
    "# MINI CHALLENGE number 5 \n",
    "\n",
    "y = int(input(\"Please type a number -100 to 100:\"))\n",
    "\n",
    "if y > 0:\n",
    "    print(\"Number is positive\")\n",
    "else:\n",
    "    if y < 0:\n",
    "        print(\"Number is negative\")\n",
    "    else:\n",
    "        print(\"Number is zero\")\n",
    "    "
   ]
  },
  {
   "cell_type": "markdown",
   "metadata": {},
   "source": [
    "MINI CHALLENGE #5:\n",
    "- Write a code that takes a number from the user and indicates if it's positive or negative"
   ]
  },
  {
   "cell_type": "markdown",
   "metadata": {},
   "source": [
    "# TASK #6: DEVELOP FUNCTIONS IN PYTHON"
   ]
  },
  {
   "cell_type": "code",
   "execution_count": 16,
   "metadata": {},
   "outputs": [],
   "source": [
    "# Define a function that takes in two argument x and y and returns their multiplication \n",
    "def multiplication(x,y):\n",
    "    return x*y"
   ]
  },
  {
   "cell_type": "code",
   "execution_count": 17,
   "metadata": {},
   "outputs": [
    {
     "data": {
      "text/plain": [
       "30"
      ]
     },
     "execution_count": 17,
     "metadata": {},
     "output_type": "execute_result"
    }
   ],
   "source": [
    "# Call the function\n",
    "multiplication(5,6)"
   ]
  },
  {
   "cell_type": "markdown",
   "metadata": {},
   "source": [
    "MINI CHALLENGE #6:\n",
    "- Write a code that takes in three inputs from the user and calculate their sum"
   ]
  },
  {
   "cell_type": "code",
   "execution_count": 4,
   "metadata": {},
   "outputs": [],
   "source": [
    "def sum(x,y,z):\n",
    "    return x+y+z \n"
   ]
  },
  {
   "cell_type": "code",
   "execution_count": 6,
   "metadata": {},
   "outputs": [
    {
     "data": {
      "text/plain": [
       "15"
      ]
     },
     "execution_count": 6,
     "metadata": {},
     "output_type": "execute_result"
    }
   ],
   "source": [
    "sum(3,5,7)"
   ]
  },
  {
   "cell_type": "code",
   "execution_count": 7,
   "metadata": {},
   "outputs": [
    {
     "name": "stdout",
     "output_type": "stream",
     "text": [
      "Enter the first number:3\n",
      "Enter the second number:5\n",
      "Enter the third number:7\n"
     ]
    },
    {
     "data": {
      "text/plain": [
       "15"
      ]
     },
     "execution_count": 7,
     "metadata": {},
     "output_type": "execute_result"
    }
   ],
   "source": [
    "num1 = int(input(\"Enter the first number:\"))\n",
    "num2 = int(input(\"Enter the second number:\"))\n",
    "num3 = int(input(\"Enter the third number:\"))\n",
    "sum(num1,num2,num3)"
   ]
  },
  {
   "cell_type": "markdown",
   "metadata": {},
   "source": [
    "# TASK #7: UNDERSTAND FOR AND WHILE LOOPS"
   ]
  },
  {
   "cell_type": "code",
   "execution_count": 2,
   "metadata": {},
   "outputs": [
    {
     "data": {
      "text/plain": [
       "['milk', 'rice', 'eggs', 'bread', 'orange', 'water']"
      ]
     },
     "execution_count": 2,
     "metadata": {},
     "output_type": "execute_result"
    }
   ],
   "source": [
    "# List of strings\n",
    "grocery_list  = [\"milk\",\"rice\",\"eggs\",\"bread\",\"orange\",\"water\"]\n",
    "grocery_list"
   ]
  },
  {
   "cell_type": "code",
   "execution_count": 5,
   "metadata": {},
   "outputs": [
    {
     "name": "stdout",
     "output_type": "stream",
     "text": [
      "milk\n",
      "rice\n",
      "eggs\n",
      "bread\n",
      "orange\n",
      "water\n"
     ]
    }
   ],
   "source": [
    "for i in grocery_list:\n",
    "    print(i)\n",
    "    "
   ]
  },
  {
   "cell_type": "code",
   "execution_count": 7,
   "metadata": {},
   "outputs": [
    {
     "name": "stdout",
     "output_type": "stream",
     "text": [
      "0\n",
      "1\n",
      "2\n",
      "3\n",
      "4\n",
      "5\n",
      "6\n"
     ]
    }
   ],
   "source": [
    "# Range() generates a list of numbers, which is used to iterate over with for loops.\n",
    "# range() is 0-index based, meaning list indexes start at 0, not 1. \n",
    "# The last integer generated by range() is up to, but not including, last element. \n",
    "# Example: range(0, 7) generates integers from 0 up to, but not including, 7.\n",
    "\n",
    "for i in range(7):\n",
    "    print(i)"
   ]
  },
  {
   "cell_type": "code",
   "execution_count": 8,
   "metadata": {},
   "outputs": [
    {
     "name": "stdout",
     "output_type": "stream",
     "text": [
      "0\n",
      "1\n",
      "2\n",
      "3\n",
      "4\n",
      "5\n",
      "6\n",
      "7\n",
      "8\n",
      "9\n",
      "10\n"
     ]
    }
   ],
   "source": [
    "# While loop can be used to execute a set of statements as long as a certain condition holds true.\n",
    "\n",
    "i = 0 \n",
    "\n",
    "while i <= 10: \n",
    "    print(i)\n",
    "    i = i + 1 \n",
    "    "
   ]
  },
  {
   "cell_type": "markdown",
   "metadata": {},
   "source": [
    "MINI CHALLENGE #7:\n",
    "- Write a code that displays numbers from 1 to 10 using for and while loops\n"
   ]
  },
  {
   "cell_type": "code",
   "execution_count": 1,
   "metadata": {},
   "outputs": [
    {
     "name": "stdout",
     "output_type": "stream",
     "text": [
      "1\n",
      "2\n",
      "3\n",
      "4\n",
      "5\n",
      "6\n",
      "7\n",
      "8\n",
      "9\n",
      "10\n"
     ]
    }
   ],
   "source": [
    "# This is the code to display numbers from 1 to 10 using a for loop # \n",
    "\n",
    "for i in range(1,11):\n",
    "    print(i)"
   ]
  },
  {
   "cell_type": "code",
   "execution_count": 2,
   "metadata": {},
   "outputs": [
    {
     "name": "stdout",
     "output_type": "stream",
     "text": [
      "1\n",
      "2\n",
      "3\n",
      "4\n",
      "5\n",
      "6\n",
      "7\n",
      "8\n",
      "9\n",
      "10\n"
     ]
    }
   ],
   "source": [
    "i=1\n",
    "\n",
    "while i in range(1,11):\n",
    "    print(i)\n",
    "    i = i + 1 "
   ]
  },
  {
   "cell_type": "markdown",
   "metadata": {},
   "source": [
    "# TASK #8: CAPSTONE PROJECT"
   ]
  },
  {
   "cell_type": "markdown",
   "metadata": {},
   "source": [
    "Develop a guessing game that performs the following: \n",
    "- The system will automatically generate a random number between 1 and 100. \n",
    "- Users can insert any number between 1 and 100\n",
    "- The program shall be able to compare the number generated by the system and the number that has been entered by the user. The program shall print out one of the following options to help the user improve their next guess:\n",
    "    - You are right, great job!\n",
    "    - Your guess is low, try again!\n",
    "    - your guess is high, try again!\n",
    "\n",
    "- The program exits when the user guess matches the number generated by the system\n",
    "\n"
   ]
  },
  {
   "cell_type": "code",
   "execution_count": 4,
   "metadata": {},
   "outputs": [],
   "source": [
    "# This is a guessing developed by Siyabulela Tyaliti as part of his capstone project for the Python 101: Develop Your First Python Program guided project on Coursera # "
   ]
  },
  {
   "cell_type": "code",
   "execution_count": 2,
   "metadata": {},
   "outputs": [
    {
     "name": "stdout",
     "output_type": "stream",
     "text": [
      "Enter your guess of an integer from 1 to 100:10\n",
      "The randomly generated number is 63\n",
      "The user generated number is 10\n",
      "your guess is incorrect, try again, keep on trying and it will be correct eventually\n",
      "your guess is incorrect, try again, keep on trying and it will be correct eventually\n"
     ]
    }
   ],
   "source": [
    "import random \n",
    "\n",
    "randomly_generated_integer = random.randint(1,100)  \n",
    "\n",
    "#This line of code is for telling the computer to generate a random integer from 1 to 100 # \n",
    "\n",
    "user_generated_integer = int(input(\"Enter your guess of an integer from 1 to 100:\"))\n",
    "\n",
    "#This line of code is for telling the computer that it should take user generated information which will be whatever integer the user enters in the input between 1 and 100 # \n",
    "\n",
    "print(\"The randomly generated number is {}\".format(randomly_generated_integer))\n",
    "\n",
    "print(\"The user generated number is {}\".format(user_generated_integer))\n",
    "\n",
    "while user_generated_integer != randomly_generated_integer:\n",
    "    print(\"your guess is incorrect, try again, keep on trying and it will be correct eventually\") \n",
    "    \n",
    "    break \n",
    "    \n",
    "if user_generated_integer == randomly_generated_integer:\n",
    "    print(\"You win bragging rights, your guess is correct\")\n",
    "else:\n",
    "        print(\"your guess is incorrect, try again, keep on trying and it will be correct eventually\") "
   ]
  },
  {
   "cell_type": "code",
   "execution_count": null,
   "metadata": {},
   "outputs": [],
   "source": []
  },
  {
   "cell_type": "code",
   "execution_count": null,
   "metadata": {},
   "outputs": [],
   "source": []
  },
  {
   "cell_type": "code",
   "execution_count": null,
   "metadata": {},
   "outputs": [],
   "source": []
  },
  {
   "cell_type": "markdown",
   "metadata": {
    "id": "Jm-0XhPntGtK"
   },
   "source": [
    "# EXCELLENT JOB"
   ]
  },
  {
   "cell_type": "markdown",
   "metadata": {
    "id": "_wuaDbzWm-i8"
   },
   "source": [
    "# MINI CHALLENGES SOLUTIONS"
   ]
  },
  {
   "cell_type": "markdown",
   "metadata": {
    "id": "Xq-Y8OW0nG8O"
   },
   "source": [
    "MINI CHALLENGE #1 SOLUTION:\n",
    "- We defined a variable x and we assigned these 4 values listed below to it. Without executing any code cells, what will these lines of code generate?\n",
    "- Verify your answer by executing the code cells\n",
    "\n",
    "```\n",
    "z = 1000\n",
    "z = 2000\n",
    "z = 5000\n",
    "z = 6000\n",
    "z\n",
    "```"
   ]
  },
  {
   "cell_type": "code",
   "execution_count": null,
   "metadata": {
    "id": "R_CHNPWbnAf0"
   },
   "outputs": [],
   "source": [
    "# The output of this code is 5000\n",
    "# Initially we put 1000 in z, then we overwrite it by placing 2000 in z, and then 5000 in z & finally 6000 in z\n",
    "z = 1000\n",
    "z = 2000\n",
    "z = 5000\n",
    "z = 6000\n",
    "z"
   ]
  },
  {
   "cell_type": "markdown",
   "metadata": {
    "id": "kfyhdekfaUnr"
   },
   "source": [
    "MINI CHALLENGE #2 SOLUTION:\n",
    "- Write a code that takes in APPLE (AAPL) stock prices at two days and calculate the return:\n",
    "  - AAPL price on day 1 = \\$135\n",
    "  - AAPL price on day 2 = \\$150\n"
   ]
  },
  {
   "cell_type": "code",
   "execution_count": null,
   "metadata": {
    "id": "SUdMEr51Y0cR"
   },
   "outputs": [],
   "source": [
    "AAPL_price_1 = 135\n",
    "AAPL_price_2 = 150\n",
    "\n",
    "price_diff = AAPL_price_2 - AAPL_price_1\n",
    "percentage_change = price_diff / AAPL_price_1 * 100\n",
    "\n",
    "percentage_change"
   ]
  },
  {
   "cell_type": "markdown",
   "metadata": {},
   "source": [
    "MINI CHALLENGE #3 SOLUTION:\n",
    "- Write a code that takes in the name of the stock, price at which it is selling, the number of stocks that you want to own and prints out the total funds required to buy this stock. Find a sample expected output below:\n",
    "  - Enter the price of the stock you want to buy: 3000  \n",
    "  - Enter the number of stocks that you want to buy: 5\n",
    "  - Enter the name of the stock that you want to buy: AMZN\n",
    "  - The total funds required to buy 5 number of AMZN stocks at 3000 is: 15000"
   ]
  },
  {
   "cell_type": "code",
   "execution_count": null,
   "metadata": {},
   "outputs": [],
   "source": [
    "x = input(\"Enter the price of the stock you want to buy: \")\n",
    "x = int(x)\n",
    "y = input(\"Enter the number of stocks that you want to buy: \")\n",
    "y = int(y)\n",
    "z = input(\"Enter the name of the stock that you want to buy: \")\n",
    "print('The total funds required to buy {} number of {} stocks at {} is {}'.format(y,z,x, x*y)) "
   ]
  },
  {
   "cell_type": "markdown",
   "metadata": {},
   "source": [
    "MINI CHALLENGE #4 SOLUTION:\n",
    "- Print the first, second and last element in the list below\n",
    "\n",
    "```\n",
    "grocery_list = ['milk', 'rice', 'eggs', 'bread', 'oranges', 'water']\n",
    "\n",
    "```\n"
   ]
  },
  {
   "cell_type": "code",
   "execution_count": null,
   "metadata": {},
   "outputs": [],
   "source": [
    "grocery_list = ['milk', 'rice', 'eggs', 'bread', 'oranges', 'water']\n",
    "print(grocery_list[0])\n",
    "print(grocery_list[1])\n",
    "print(grocery_list[-1])"
   ]
  },
  {
   "cell_type": "markdown",
   "metadata": {},
   "source": [
    "MINI CHALLENGE #5 SOLUTION:\n",
    "- Write a code that takes a number from the user and indicates if it's positive or negative"
   ]
  },
  {
   "cell_type": "code",
   "execution_count": null,
   "metadata": {},
   "outputs": [],
   "source": [
    "x = int(input(\"Please enter an integer: \"))\n",
    "\n",
    "if x < 0:\n",
    "    print('Number is Negative')\n",
    "elif x > 0:\n",
    "    print('Number is Positive')\n",
    "else:    \n",
    "    print ('Number is zero')"
   ]
  },
  {
   "cell_type": "markdown",
   "metadata": {},
   "source": [
    "MINI CHALLENGE #6 SOLUTION:\n",
    "- Write a code that takes in three inputs from the user and calculate their sum"
   ]
  },
  {
   "cell_type": "code",
   "execution_count": null,
   "metadata": {},
   "outputs": [],
   "source": [
    "def summation(x, y, z):\n",
    "    return x + y + z"
   ]
  },
  {
   "cell_type": "code",
   "execution_count": null,
   "metadata": {},
   "outputs": [],
   "source": [
    "num1 = int(input(\"Enter the first number: \"))\n",
    "num2 = int(input(\"Enter the second number: \"))\n",
    "num3 = int(input(\"Enter the third number: \"))\n",
    "\n",
    "total = summation(num1, num2, num3)\n",
    "\n",
    "print('Total balance = {}'.format(total))"
   ]
  },
  {
   "cell_type": "markdown",
   "metadata": {},
   "source": [
    "MINI CHALLENGE #7 SOLUTION:\n",
    "- Write a code that displays numbers from 1 to 10 using for and while loops"
   ]
  },
  {
   "cell_type": "code",
   "execution_count": null,
   "metadata": {},
   "outputs": [],
   "source": [
    "i = 1\n",
    "while (i < 11):\n",
    "  print (i)\n",
    "  i = i+1"
   ]
  },
  {
   "cell_type": "code",
   "execution_count": null,
   "metadata": {},
   "outputs": [],
   "source": [
    "for i in range(1, 11):\n",
    "    print(i)"
   ]
  },
  {
   "cell_type": "code",
   "execution_count": null,
   "metadata": {},
   "outputs": [],
   "source": []
  }
 ],
 "metadata": {
  "colab": {
   "collapsed_sections": [],
   "name": "Python 101 - Variables Assignment and Math Operations.ipynb",
   "provenance": []
  },
  "kernelspec": {
   "display_name": "Python 3 (ipykernel)",
   "language": "python",
   "name": "python3"
  },
  "language_info": {
   "codemirror_mode": {
    "name": "ipython",
    "version": 3
   },
   "file_extension": ".py",
   "mimetype": "text/x-python",
   "name": "python",
   "nbconvert_exporter": "python",
   "pygments_lexer": "ipython3",
   "version": "3.11.5"
  }
 },
 "nbformat": 4,
 "nbformat_minor": 1
}
