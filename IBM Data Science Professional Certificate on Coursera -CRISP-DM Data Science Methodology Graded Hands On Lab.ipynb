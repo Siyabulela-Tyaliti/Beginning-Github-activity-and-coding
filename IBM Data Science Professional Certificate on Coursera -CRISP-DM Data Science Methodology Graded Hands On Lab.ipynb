{
 "cells": [
  {
   "cell_type": "raw",
   "id": "c7cbca24",
   "metadata": {},
   "source": [
    "Project Title \n",
    "\n",
    "Tracking interest levels on dating app interactions and matches through email data \n",
    "\n",
    "Question 1 - Area I am addressing the problem within \n",
    "\n",
    "Emails \n",
    "\n",
    "Question 2 - Define the business problem \n",
    "\n",
    "1. We are working for a dating app company (we will call the company X-likes-Y) and we want to track how interested two matched individuals are in each. And to keep the two individuals interested in each other as they interact over the dating app's email interface, we will report their interest levels as percentages to each other in real time and further develop recommendation engines for how the two individuals can further their conversations by collecting and using real time data of their email conversations. The end goal of this initiative would be to improve customer experience and customer satisfaction on the dating app. \n",
    "\n",
    "2. Can we come up with an algorithm to measure the and report the level in which two individuals are interested in each other in real time as they interact on a dating app, using text data and data of emojis they send to each other as they email each other back and fourth. Can we report that interest level in real time as a percentage?\n",
    "\n",
    "Question 3 - How I use CRISP-DM Data Science Methodology to work through the problem\n",
    "\n",
    "1. Analytic Approach - We could use predictive models based on the activity of the two users or individuals on the app and we can generate models for topics both individuals would most likely find interesting to talk about in their email exchange on the app. \n",
    "\n",
    "2. Data Requirements - We can use domain knowledge surrounding what we know about dating app and interaction patterns  in the apps to determine that the required  data for solving this problem would be data such as: email data collected on emojis and texts two individuals send to each other, numerical data about time that two users spend talking to each other over email, data on days of the week, data on time of day that users were using the app, data on specific dates users used the app, numerical data about percentage of the time phrases,  words, and emojis have been used. \n",
    "\n",
    "3. Data Collection - We can come up with an algorithm for collecting the data (mentioned in Data Requirements) in real time as two users interact on the app.\n",
    "\n",
    "4. Data Understanding and Preparation - We can assign certain keywords, certain key phrases, and certain key emojis (particularly any that explicitly seem romantic or friendly in nature) and we can assign them with values of 1 and we can assign all other data points collected with values of 0. We can model all the data in a data frame. We can filter data by time users spent on the email exchange on the app as one of the parameters we can test our data within (we can create a data set that we can use as our training set and our test set for the model we will use). \n",
    "\n",
    "5. Modeling and Evaluation - We can use a regression model in which we measure key phrases, key emojis, and keywords that have been used in email exchanges and have been assigned values  of 1 as our first variable and we measure that data against our second variable which would be percentage of time that they have been used in the email exchanges, we can then use that model to generate topics that users can find interesting to talk about as they interact through the email exchange on the app. For evaluating the model, we can distribute a beta test version of the app across a sample of users that we as data scientists, solution owners, stakeholders, and statisticians have randomly selected; We can test the beta test app's performance for a year to see how users feel about the use of the model on the dating app's email interface.   \n",
    "\n",
    "This is a Jupyter Notebook created by me, Siyabulela Tyaliti, as I was completing IBM's Data Science Professional Certificate on Coursera. "
   ]
  }
 ],
 "metadata": {
  "kernelspec": {
   "display_name": "Python 3 (ipykernel)",
   "language": "python",
   "name": "python3"
  },
  "language_info": {
   "codemirror_mode": {
    "name": "ipython",
    "version": 3
   },
   "file_extension": ".py",
   "mimetype": "text/x-python",
   "name": "python",
   "nbconvert_exporter": "python",
   "pygments_lexer": "ipython3",
   "version": "3.11.5"
  }
 },
 "nbformat": 4,
 "nbformat_minor": 5
}
